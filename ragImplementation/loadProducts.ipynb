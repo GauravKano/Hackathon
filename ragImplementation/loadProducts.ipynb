{
 "cells": [
  {
   "cell_type": "code",
   "execution_count": 1,
   "metadata": {},
   "outputs": [],
   "source": [
    "#Import milvus\n",
    "from pymilvus import FieldSchema, CollectionSchema, DataType, MilvusClient\n",
    "\n",
    "collectionName = \"ProductData\"\n",
    "indexFieldName = \"embedding\"\n",
    "DIMENSIONS = 384"
   ]
  },
  {
   "cell_type": "code",
   "execution_count": 2,
   "metadata": {},
   "outputs": [],
   "source": [
    "# Get os and env\n",
    "from dotenv import load_dotenv,  find_dotenv\n",
    "load_dotenv(find_dotenv('.env.local'))\n",
    "import os"
   ]
  },
  {
   "cell_type": "code",
   "execution_count": 3,
   "metadata": {},
   "outputs": [],
   "source": [
    "# Init and Connect to Client\n",
    "ENDPOINT = os.getenv(\"MILVUS_ENDPOINT\")\n",
    "TOKEN = os.getenv(\"MILVUS_APIKEY\")\n",
    "\n",
    "client = MilvusClient(uri=ENDPOINT, token = TOKEN)"
   ]
  },
  {
   "cell_type": "code",
   "execution_count": 4,
   "metadata": {},
   "outputs": [
    {
     "data": {
      "text/plain": [
       "{'auto_id': True, 'description': 'Schema For Product Data', 'fields': [{'name': 'id', 'description': 'ID', 'type': <DataType.INT64: 5>, 'is_primary': True, 'auto_id': False}, {'name': 'embedding', 'description': 'Embeddings', 'type': <DataType.FLOAT_VECTOR: 101>, 'params': {'dim': 384}}, {'name': 'category', 'description': 'Product Category', 'type': <DataType.VARCHAR: 21>, 'params': {'max_length': 500}}, {'name': 'name', 'description': 'Product Name', 'type': <DataType.VARCHAR: 21>, 'params': {'max_length': 500}}, {'name': 'description', 'description': 'Product Description', 'type': <DataType.VARCHAR: 21>, 'params': {'max_length': 65535}}], 'enable_dynamic_field': True}"
      ]
     },
     "execution_count": 4,
     "metadata": {},
     "output_type": "execute_result"
    }
   ],
   "source": [
    "# Create Schema\n",
    "schema = MilvusClient.create_schema(\n",
    "\tauto_id = True,\n",
    " \tenable_dynamic_field = True,\n",
    "  \tdescription=\"Schema For Product Data\"\n",
    ")\n",
    "\n",
    "schema.add_field(field_name=\"id\", datatype= DataType.INT64, is_primary = True, description = \"ID\")\n",
    "schema.add_field(field_name=\"embedding\", datatype= DataType.FLOAT_VECTOR, dim = DIMENSIONS, description = \"Embeddings\")\n",
    "schema.add_field(field_name=\"category\", datatype= DataType.VARCHAR, max_length = 500, description = \"Product Category\")\n",
    "schema.add_field(field_name=\"name\", datatype= DataType.VARCHAR, max_length = 500, description = \"Product Name\")\n",
    "schema.add_field(field_name=\"description\", datatype= DataType.VARCHAR, max_length = 65535, description = \"Product Description\")"
   ]
  },
  {
   "cell_type": "code",
   "execution_count": 5,
   "metadata": {},
   "outputs": [],
   "source": [
    "# Create Index\n",
    "index_params = client.prepare_index_params()\n",
    "\n",
    "index_params.add_index(\n",
    "    field_name = indexFieldName,\n",
    "\tindex_type = \"IVF_FLAT\",\n",
    " \tmetric_type = \"L2\",\n",
    " \tparams = {\"nlist\": 40},\n",
    ")"
   ]
  },
  {
   "cell_type": "code",
   "execution_count": 6,
   "metadata": {},
   "outputs": [],
   "source": [
    "# '''Used to Clear all data from collection'''\n",
    "\n",
    "# if client.has_collection(collectionName):\n",
    "#     client.drop_collection(collection_name = collectionName)"
   ]
  },
  {
   "cell_type": "code",
   "execution_count": 7,
   "metadata": {},
   "outputs": [],
   "source": [
    "#Drop Embedding Index from Collection\n",
    "def dropClusterIndex():\n",
    "    if(client.has_collection(collectionName)):\n",
    "        existingFieldNames = client.list_indexes(collection_name = collectionName)\n",
    "        client.release_collection(collection_name = collectionName)\n",
    "        if(indexFieldName in existingFieldNames):\n",
    "            client.drop_index(collection_name = collectionName, index_name = indexFieldName)"
   ]
  },
  {
   "cell_type": "code",
   "execution_count": 8,
   "metadata": {},
   "outputs": [],
   "source": [
    "# # Drop the Index\n",
    "# dropClusterIndex()\n",
    "\n",
    "#Create Collection\n",
    "client.create_collection(collection_name = collectionName, schema = schema, index_params = index_params)"
   ]
  },
  {
   "cell_type": "code",
   "execution_count": 9,
   "metadata": {},
   "outputs": [
    {
     "name": "stderr",
     "output_type": "stream",
     "text": [
      "c:\\Users\\gaura\\OneDrive\\Desktop\\Gaurav\\Coding\\Projects\\Hackathon\\Hackathon\\ragImplementation\\venv\\Lib\\site-packages\\sentence_transformers\\cross_encoder\\CrossEncoder.py:13: TqdmWarning: IProgress not found. Please update jupyter and ipywidgets. See https://ipywidgets.readthedocs.io/en/stable/user_install.html\n",
      "  from tqdm.autonotebook import tqdm, trange\n",
      "c:\\Users\\gaura\\OneDrive\\Desktop\\Gaurav\\Coding\\Projects\\Hackathon\\Hackathon\\ragImplementation\\venv\\Lib\\site-packages\\transformers\\tokenization_utils_base.py:1617: FutureWarning: `clean_up_tokenization_spaces` was not set. It will be set to `True` by default. This behavior will be deprecated in transformers v4.45, and will be then set to `False` by default. For more details check this issue: https://github.com/huggingface/transformers/issues/31884\n",
      "  warnings.warn(\n"
     ]
    }
   ],
   "source": [
    "#Init Embedding Model\n",
    "from sentence_transformers import SentenceTransformer\n",
    "embedder = SentenceTransformer(\"sentence-transformers/all-MiniLM-L6-v2\")"
   ]
  },
  {
   "cell_type": "code",
   "execution_count": 10,
   "metadata": {},
   "outputs": [],
   "source": [
    "#Check if product already exists in the database\n",
    "def productExists(category, name):\n",
    "    client.load_collection(collection_name = collectionName)\n",
    "    \n",
    "    queryFilter = f'category == \"{category}\" && name == \"{name}\"'\n",
    "    result = client.query(collection_name = collectionName, filter = queryFilter, output_fields = [\"id\"])\n",
    "    \n",
    "    return len(result) > 0"
   ]
  },
  {
   "cell_type": "code",
   "execution_count": 11,
   "metadata": {},
   "outputs": [],
   "source": [
    "#Check if data is valid\n",
    "def validateProdData(productData):\n",
    "    requiredField = [\"category\", \"name\", \"description\"]\n",
    "    \n",
    "    for field in requiredField:\n",
    "        if field not in productData:\n",
    "            raise Exception(f'Missing Field in Prof Data \"{field}\"')"
   ]
  },
  {
   "cell_type": "code",
   "execution_count": 12,
   "metadata": {},
   "outputs": [],
   "source": [
    "import pandas\n",
    "\n",
    "file = pandas.read_excel(\"../products.xlsx\", engine = \"openpyxl\")\n",
    "\n",
    "products = []\n",
    "\n",
    "for index, row in file.iterrows():\n",
    "    product = {\n",
    "\t\t\"category\": row[\"Category\"],\n",
    "\t\t\"name\": row[\"Name\"],\n",
    "\t\t\"description\": row[\"Description\"]\n",
    "\t}\n",
    "    \n",
    "    products.append(product)"
   ]
  },
  {
   "cell_type": "code",
   "execution_count": 13,
   "metadata": {},
   "outputs": [],
   "source": [
    "insertProd = []\n",
    "checkDuplication = set()\n",
    "\n",
    "#Prepare Insert Array\n",
    "for productData in products:\n",
    "    validateProdData(productData)\n",
    "    \n",
    "    if(productExists(productData[\"category\"], productData[\"name\"])):\n",
    "        print(\"Review Already Exists in Vector Database\")\n",
    "        continue\n",
    "    \n",
    "    if(productData[\"category\"], productData[\"name\"]) in checkDuplication:\n",
    "        print(\"Duplicate Entry\")\n",
    "        continue\n",
    "    else:\n",
    "        checkDuplication.add((productData[\"category\"], productData[\"name\"]))\n",
    "    \n",
    "    entry = productData.copy()\n",
    "    \n",
    "    productEmbedding = embedder.encode(\"Description: \" + productData[\"description\"] + \"\\n\\n Category: \" + productData[\"category\"] + \"\\n\\n Name\" + productData[\"name\"])\n",
    "    entry[\"embedding\"] = productEmbedding\n",
    "    \n",
    "    insertProd.append(entry)"
   ]
  },
  {
   "cell_type": "code",
   "execution_count": 14,
   "metadata": {},
   "outputs": [
    {
     "name": "stdout",
     "output_type": "stream",
     "text": [
      "{'insert_count': 35, 'ids': [452810269555175944, 452810269555175945, 452810269555175946, 452810269555175947, 452810269555175948, 452810269555175949, 452810269555175950, 452810269555175951, 452810269555175952, 452810269555175953, 452810269555175954, 452810269555175955, 452810269555175956, 452810269555175957, 452810269555175958, 452810269555175959, 452810269555175960, 452810269555175961, 452810269555175962, 452810269555175963, 452810269555175964, 452810269555175965, 452810269555175966, 452810269555175967, 452810269555175968, 452810269555175969, 452810269555175970, 452810269555175971, 452810269555175972, 452810269555175973, 452810269555175974, 452810269555175975, 452810269555175976, 452810269555175977, 452810269555175978], 'cost': 18}\n"
     ]
    }
   ],
   "source": [
    "#Insert into Database\n",
    "if(insertProd):\n",
    "    output = client.insert(collection_name = collectionName, data = insertProd)\n",
    "    print(output)\n",
    "else:\n",
    "    print(\"Nothing to Add\")"
   ]
  },
  {
   "cell_type": "code",
   "execution_count": 15,
   "metadata": {},
   "outputs": [],
   "source": [
    "#Close the Client\n",
    "client.close()"
   ]
  }
 ],
 "metadata": {
  "kernelspec": {
   "display_name": "venv",
   "language": "python",
   "name": "python3"
  },
  "language_info": {
   "codemirror_mode": {
    "name": "ipython",
    "version": 3
   },
   "file_extension": ".py",
   "mimetype": "text/x-python",
   "name": "python",
   "nbconvert_exporter": "python",
   "pygments_lexer": "ipython3",
   "version": "3.12.4"
  }
 },
 "nbformat": 4,
 "nbformat_minor": 2
}
