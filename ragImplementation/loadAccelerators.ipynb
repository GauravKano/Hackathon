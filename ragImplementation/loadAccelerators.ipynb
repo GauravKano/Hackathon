{
 "cells": [
  {
   "cell_type": "code",
   "execution_count": 1,
   "metadata": {},
   "outputs": [],
   "source": [
    "#Import milvus\n",
    "from pymilvus import FieldSchema, CollectionSchema, DataType, MilvusClient\n",
    "\n",
    "collectionName = \"Accelerators\"\n",
    "indexFieldName = \"embedding\"\n",
    "DIMENSIONS = 384"
   ]
  },
  {
   "cell_type": "code",
   "execution_count": 2,
   "metadata": {},
   "outputs": [],
   "source": [
    "# Get os and env\n",
    "from dotenv import load_dotenv,  find_dotenv\n",
    "load_dotenv(find_dotenv('.env.local'))\n",
    "import os"
   ]
  },
  {
   "cell_type": "code",
   "execution_count": 3,
   "metadata": {},
   "outputs": [],
   "source": [
    "# Init and Connect to Client\n",
    "ENDPOINT = os.getenv(\"MILVUS_ENDPOINT\")\n",
    "TOKEN = os.getenv(\"MILVUS_APIKEY\")\n",
    "\n",
    "client = MilvusClient(uri = ENDPOINT, token = TOKEN)"
   ]
  },
  {
   "cell_type": "code",
   "execution_count": 4,
   "metadata": {},
   "outputs": [
    {
     "data": {
      "text/plain": [
       "{'auto_id': True, 'description': 'Schema For Accelerators Data', 'fields': [{'name': 'id', 'description': 'ID', 'type': <DataType.INT64: 5>, 'is_primary': True, 'auto_id': False}, {'name': 'embedding', 'description': 'Embeddings', 'type': <DataType.FLOAT_VECTOR: 101>, 'params': {'dim': 384}}, {'name': 'name', 'description': 'Accelerators Name', 'type': <DataType.VARCHAR: 21>, 'params': {'max_length': 500}}, {'name': 'productName', 'description': 'Product Name', 'type': <DataType.VARCHAR: 21>, 'params': {'max_length': 500}}, {'name': 'shortDescription', 'description': 'Short Description of Accelerator', 'type': <DataType.VARCHAR: 21>, 'params': {'max_length': 65535}}, {'name': 'type', 'description': 'Accelerator Type', 'type': <DataType.VARCHAR: 21>, 'params': {'max_length': 500}}], 'enable_dynamic_field': True}"
      ]
     },
     "execution_count": 4,
     "metadata": {},
     "output_type": "execute_result"
    }
   ],
   "source": [
    "# Create Schema\n",
    "schema = MilvusClient.create_schema(\n",
    "\tauto_id = True,\n",
    " \tenable_dynamic_field = True,\n",
    "  \tdescription=\"Schema For Accelerators Data\"\n",
    ")\n",
    "\n",
    "schema.add_field(field_name=\"id\", datatype= DataType.INT64, is_primary = True, description = \"ID\")\n",
    "schema.add_field(field_name=\"embedding\", datatype= DataType.FLOAT_VECTOR, dim = DIMENSIONS, description = \"Embeddings\")\n",
    "schema.add_field(field_name=\"name\", datatype= DataType.VARCHAR, max_length = 500, description = \"Accelerators Name\")\n",
    "schema.add_field(field_name= \"productName\", datatype = DataType.VARCHAR, max_length = 500, description = \"Product Name\")\n",
    "schema.add_field(field_name=\"shortDescription\", datatype= DataType.VARCHAR, max_length = 65535, description = \"Short Description of Accelerator\")\n",
    "schema.add_field(field_name=\"type\", datatype= DataType.VARCHAR, max_length = 500, description = \"Accelerator Type\")"
   ]
  },
  {
   "cell_type": "code",
   "execution_count": 5,
   "metadata": {},
   "outputs": [],
   "source": [
    "# Create Index\n",
    "index_params = client.prepare_index_params()\n",
    "\n",
    "index_params.add_index(\n",
    "    field_name = indexFieldName,\n",
    "\tindex_type = \"IVF_FLAT\",\n",
    " \tmetric_type = \"L2\",\n",
    " \tparams = {\"nlist\": 40},\n",
    ")"
   ]
  },
  {
   "cell_type": "code",
   "execution_count": 6,
   "metadata": {},
   "outputs": [],
   "source": [
    "# '''Used to Clear all data from collection'''\n",
    "\n",
    "# if client.has_collection(collectionName):\n",
    "#     client.drop_collection(collection_name = collectionName)"
   ]
  },
  {
   "cell_type": "code",
   "execution_count": 7,
   "metadata": {},
   "outputs": [],
   "source": [
    "#Drop Embedding Index from Collection\n",
    "def dropClusterIndex():\n",
    "    if(client.has_collection(collectionName)):\n",
    "        existingFieldNames = client.list_indexes(collection_name = collectionName)\n",
    "        client.release_collection(collection_name = collectionName)\n",
    "        if(indexFieldName in existingFieldNames):\n",
    "            client.drop_index(collection_name = collectionName, index_name = indexFieldName)"
   ]
  },
  {
   "cell_type": "code",
   "execution_count": 8,
   "metadata": {},
   "outputs": [],
   "source": [
    "# # Drop the Index\n",
    "# dropClusterIndex()\n",
    "\n",
    "#Create Collection\n",
    "client.create_collection(collection_name = collectionName, schema = schema, index_params = index_params)"
   ]
  },
  {
   "cell_type": "code",
   "execution_count": 9,
   "metadata": {},
   "outputs": [
    {
     "name": "stderr",
     "output_type": "stream",
     "text": [
      "c:\\Users\\gaura\\OneDrive\\Desktop\\Gaurav\\Coding\\Projects\\Hackathon\\Hackathon\\ragImplementation\\venv\\Lib\\site-packages\\sentence_transformers\\cross_encoder\\CrossEncoder.py:13: TqdmWarning: IProgress not found. Please update jupyter and ipywidgets. See https://ipywidgets.readthedocs.io/en/stable/user_install.html\n",
      "  from tqdm.autonotebook import tqdm, trange\n",
      "c:\\Users\\gaura\\OneDrive\\Desktop\\Gaurav\\Coding\\Projects\\Hackathon\\Hackathon\\ragImplementation\\venv\\Lib\\site-packages\\transformers\\tokenization_utils_base.py:1617: FutureWarning: `clean_up_tokenization_spaces` was not set. It will be set to `True` by default. This behavior will be deprecated in transformers v4.45, and will be then set to `False` by default. For more details check this issue: https://github.com/huggingface/transformers/issues/31884\n",
      "  warnings.warn(\n"
     ]
    }
   ],
   "source": [
    "#Init Embedding Model\n",
    "from sentence_transformers import SentenceTransformer\n",
    "embedder = SentenceTransformer(\"sentence-transformers/all-MiniLM-L6-v2\")"
   ]
  },
  {
   "cell_type": "code",
   "execution_count": 10,
   "metadata": {},
   "outputs": [],
   "source": [
    "#Check if Accelerators already exists in the database\n",
    "def acceleratorExists(name, productName, type):\n",
    "    client.load_collection(collection_name = collectionName)\n",
    "    \n",
    "    queryFilter = f'name == \"{name}\" && productName == \"{productName}\" && type == \"{type}\"'\n",
    "    result = client.query(collection_name = collectionName, filter = queryFilter, output_fields = [\"id\"])\n",
    "    \n",
    "    return len(result) > 0"
   ]
  },
  {
   "cell_type": "code",
   "execution_count": 11,
   "metadata": {},
   "outputs": [],
   "source": [
    "#Check if data is valid\n",
    "def validateAccelData(acceleratorData):\n",
    "    requiredField = [\"name\", \"productName\", \"type\",  \"shortDescription\"]\n",
    "    \n",
    "    for field in requiredField:\n",
    "        if field not in acceleratorData:\n",
    "            raise Exception(f'Missing Field in Prof Data \"{field}\"')"
   ]
  },
  {
   "cell_type": "code",
   "execution_count": 12,
   "metadata": {},
   "outputs": [
    {
     "name": "stderr",
     "output_type": "stream",
     "text": [
      "c:\\Users\\gaura\\OneDrive\\Desktop\\Gaurav\\Coding\\Projects\\Hackathon\\Hackathon\\ragImplementation\\venv\\Lib\\site-packages\\openpyxl\\styles\\stylesheet.py:237: UserWarning: Workbook contains no default style, apply openpyxl's default\n",
      "  warn(\"Workbook contains no default style, apply openpyxl's default\")\n"
     ]
    }
   ],
   "source": [
    "import pandas\n",
    "\n",
    "file = pandas.read_excel(\"../accelerators.xlsx\", engine = \"openpyxl\")\n",
    "\n",
    "accelerators = []\n",
    "\n",
    "for index, row in file.iterrows():\n",
    "    accelerator = {\n",
    "\t\t\"name\": row[\"Name\"],\n",
    "\t\t\"productName\": row[\"Product\"],\n",
    "\t\t\"shortDescription\": row[\"Short description\"],\n",
    "\t\t\"type\": row[\"Type\"]\n",
    "\t}\n",
    "    \n",
    "    accelerators.append(accelerator)"
   ]
  },
  {
   "cell_type": "code",
   "execution_count": 13,
   "metadata": {},
   "outputs": [],
   "source": [
    "insertAccel = []\n",
    "checkDuplication = set()\n",
    "\n",
    "#Prepare Insert Array\n",
    "for acceleratorData in accelerators:\n",
    "    validateAccelData(acceleratorData)\n",
    "    \n",
    "    if(acceleratorExists(acceleratorData[\"name\"], acceleratorData[\"productName\"], acceleratorData[\"type\"])):\n",
    "        print(\"Review Already Exists in Vector Database\")\n",
    "        continue\n",
    "    \n",
    "    if(acceleratorData[\"name\"], acceleratorData[\"productName\"], acceleratorData[\"type\"]) in checkDuplication:\n",
    "        print(\"Duplicate Entry\")\n",
    "        continue\n",
    "    else:\n",
    "        checkDuplication.add((acceleratorData[\"name\"], acceleratorData[\"productName\"], acceleratorData[\"type\"]))\n",
    "    \n",
    "    entry = acceleratorData.copy()\n",
    "    \n",
    "    productEmbedding = embedder.encode(\"Product Name: \" + acceleratorData[\"productName\"] + \"\\n\\n Type\" + acceleratorData[\"type\"])\n",
    "    entry[\"embedding\"] = productEmbedding\n",
    "    \n",
    "    insertAccel.append(entry)"
   ]
  },
  {
   "cell_type": "code",
   "execution_count": 14,
   "metadata": {},
   "outputs": [
    {
     "name": "stdout",
     "output_type": "stream",
     "text": [
      "{'insert_count': 70, 'ids': [452810269558795916, 452810269558795917, 452810269558795918, 452810269558795919, 452810269558795920, 452810269558795921, 452810269558795922, 452810269558795923, 452810269558795924, 452810269558795925, 452810269558795926, 452810269558795927, 452810269558795928, 452810269558795929, 452810269558795930, 452810269558795931, 452810269558795932, 452810269558795933, 452810269558795934, 452810269558795935, 452810269558795936, 452810269558795937, 452810269558795938, 452810269558795939, 452810269558795940, 452810269558795941, 452810269558795942, 452810269558795943, 452810269558795944, 452810269558795945, 452810269558795946, 452810269558795947, 452810269558795948, 452810269558795949, 452810269558795950, 452810269558795951, 452810269558795952, 452810269558795953, 452810269558795954, 452810269558795955, 452810269558795956, 452810269558795957, 452810269558795958, 452810269558795959, 452810269558795960, 452810269558795961, 452810269558795962, 452810269558795963, 452810269558795964, 452810269558795965, 452810269558795966, 452810269558795967, 452810269558795968, 452810269558795969, 452810269558795970, 452810269558795971, 452810269558795972, 452810269558795973, 452810269558795974, 452810269558795975, 452810269558795976, 452810269558795977, 452810269558795978, 452810269558795979, 452810269558795980, 452810269558795981, 452810269558795982, 452810269558795983, 452810269558795984, 452810269558795985], 'cost': 29}\n"
     ]
    }
   ],
   "source": [
    "#Insert into Database\n",
    "if(insertAccel):\n",
    "    output = client.insert(collection_name = collectionName, data = insertAccel)\n",
    "    print(output)\n",
    "else:\n",
    "    print(\"Nothing to Add\")"
   ]
  },
  {
   "cell_type": "code",
   "execution_count": 15,
   "metadata": {},
   "outputs": [],
   "source": [
    "#Close the Client\n",
    "client.close()"
   ]
  }
 ],
 "metadata": {
  "kernelspec": {
   "display_name": "venv",
   "language": "python",
   "name": "python3"
  },
  "language_info": {
   "codemirror_mode": {
    "name": "ipython",
    "version": 3
   },
   "file_extension": ".py",
   "mimetype": "text/x-python",
   "name": "python",
   "nbconvert_exporter": "python",
   "pygments_lexer": "ipython3",
   "version": "3.12.4"
  }
 },
 "nbformat": 4,
 "nbformat_minor": 2
}
